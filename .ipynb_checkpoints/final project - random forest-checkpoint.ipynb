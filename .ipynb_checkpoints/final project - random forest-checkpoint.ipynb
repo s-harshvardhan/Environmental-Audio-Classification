{
 "cells": [
  {
   "cell_type": "code",
   "execution_count": 1,
   "id": "e7ad31f2",
   "metadata": {},
   "outputs": [],
   "source": [
    "import pandas as pd\n",
    "import numpy as np\n",
    "import os\n",
    "import librosa\n",
    "from sklearn.model_selection import train_test_split\n",
    "from sklearn.ensemble import RandomForestClassifier\n",
    "from sklearn.metrics import accuracy_score\n",
    "from sklearn.preprocessing import MinMaxScaler\n",
    "import sounddevice as sd"
   ]
  },
  {
   "cell_type": "code",
   "execution_count": 2,
   "id": "0c6568f5",
   "metadata": {},
   "outputs": [],
   "source": [
    "# Step 1: Data Collection and Loading\n",
    "file_path_csv = 'ESC-50-master/ESC-50-master/meta/esc50.csv'\n",
    "data = pd.read_csv(file_path_csv)"
   ]
  },
  {
   "cell_type": "code",
   "execution_count": 3,
   "id": "2e68a2e6",
   "metadata": {},
   "outputs": [],
   "source": [
    "# Filter audio files based on specific categories (only non-speech human sounds)\n",
    "selected_categories = ['breathing', 'brushing_teeth', 'clapping', 'coughing', 'crying_baby', \n",
    "                       'drinking_sipping', 'footsteps', \n",
    "                       'laughing', 'sneezing', 'snoring']\n",
    "filtered_data = data[data['category'].isin(selected_categories)]"
   ]
  },
  {
   "cell_type": "code",
   "execution_count": 4,
   "id": "f12e4277",
   "metadata": {},
   "outputs": [],
   "source": [
    "# Directory containing audio files\n",
    "folder_path = 'ESC-50-master/ESC-50-master/audio' "
   ]
  },
  {
   "cell_type": "code",
   "execution_count": 5,
   "id": "1c2005c1",
   "metadata": {},
   "outputs": [],
   "source": [
    "features = []\n",
    "labels = []"
   ]
  },
  {
   "cell_type": "code",
   "execution_count": 6,
   "id": "ff9f67c9",
   "metadata": {},
   "outputs": [],
   "source": [
    "for index, row in filtered_data.iterrows():\n",
    "    file_name = row['filename']\n",
    "    file_path = os.path.join(folder_path, file_name)\n",
    "    \n",
    "    if os.path.isfile(file_path):  # Check if file exists\n",
    "        try:\n",
    "            audio_data, sr = librosa.load(file_path, sr=None)\n",
    "            \n",
    "            # Extracting MFCCs (feature 1)\n",
    "            mfccs = librosa.feature.mfcc(y=audio_data, sr=sr, n_mfcc=20)\n",
    "            mfccs_flattened = mfccs.flatten()\n",
    "            \n",
    "            # Extracting Spectral Centroid (feature 2)\n",
    "            centroid = librosa.feature.spectral_centroid(y=audio_data, sr=sr)\n",
    "            \n",
    "            # Extracting Spectral Bandwidth (feature 3)\n",
    "            bandwidth = librosa.feature.spectral_bandwidth(y=audio_data, sr=sr)\n",
    "            \n",
    "            # Extracting Zero-Crossing Rate (feature 4)\n",
    "            zcr = librosa.feature.zero_crossing_rate(audio_data)\n",
    "            \n",
    "            # Combining features\n",
    "            combined_features = np.concatenate((mfccs_flattened, centroid.flatten(), \n",
    "                                                bandwidth.flatten(), zcr.flatten()))\n",
    "            \n",
    "            # Append features and label to the lists\n",
    "            features.append(combined_features)\n",
    "            labels.append(row['category'])\n",
    "            \n",
    "        except Exception as e:\n",
    "            print(f\"Error processing {file_name}: {e}\")\n",
    "    else:\n",
    "        print(f\"File not found: {file_name}\")"
   ]
  },
  {
   "cell_type": "code",
   "execution_count": 7,
   "id": "5e27fd7e",
   "metadata": {},
   "outputs": [],
   "source": [
    "# Convert features and labels to NumPy arrays\n",
    "X = np.array(features)\n",
    "y = np.array(labels)"
   ]
  },
  {
   "cell_type": "code",
   "execution_count": 8,
   "id": "824c2368",
   "metadata": {},
   "outputs": [],
   "source": [
    "# Min-Max scaling on extracted features\n",
    "scaler = MinMaxScaler()\n",
    "X_scaled = scaler.fit_transform(X)"
   ]
  },
  {
   "cell_type": "code",
   "execution_count": 9,
   "id": "30cae1a6",
   "metadata": {},
   "outputs": [],
   "source": [
    "# Split scaled data into train and test sets\n",
    "X_train_scaled, X_test_scaled, y_train, y_test = train_test_split(X_scaled, y, test_size=0.1, random_state=42)"
   ]
  },
  {
   "cell_type": "code",
   "execution_count": 18,
   "id": "f5b7f29c",
   "metadata": {},
   "outputs": [
    {
     "name": "stdout",
     "output_type": "stream",
     "text": [
      "Accuracy with 50 estimators: 0.625\n",
      "Accuracy with 100 estimators: 0.65\n",
      "Accuracy with 150 estimators: 0.725\n",
      "Accuracy with 200 estimators: 0.675\n",
      "Accuracy with 250 estimators: 0.625\n",
      "Accuracy with 300 estimators: 0.65\n",
      "Accuracy with 350 estimators: 0.675\n"
     ]
    }
   ],
   "source": [
    "# List of possible values for n_estimators (number of trees)\n",
    "possible_estimators = [50, 100, 150, 200, 250, 300, 350]\n",
    "\n",
    "# Dictionary to store accuracy for each n_estimators (used  to determine the best number of estimators (trees))\n",
    "rf_accuracy_dict = {}\n",
    "\n",
    "for estimator in possible_estimators:\n",
    "    # Initialize and train the Random Forest Classifier with a specific number of estimators\n",
    "    rf_model = RandomForestClassifier(n_estimators=estimator)\n",
    "    rf_model.fit(X_train_scaled, y_train)\n",
    "\n",
    "    # Predict using the trained model\n",
    "    rf_predictions = rf_model.predict(X_test_scaled)\n",
    "\n",
    "    # Evaluate model performance\n",
    "    rf_accuracy = accuracy_score(y_test, rf_predictions)\n",
    "    rf_accuracy_dict[estimator] = rf_accuracy\n",
    "    print(f\"Accuracy with {estimator} estimators: {rf_accuracy}\")"
   ]
  },
  {
   "cell_type": "code",
   "execution_count": 19,
   "id": "9958536c",
   "metadata": {},
   "outputs": [
    {
     "name": "stdout",
     "output_type": "stream",
     "text": [
      "Best number of estimators: 150\n",
      "Accuracy with 150 estimators: 0.725\n"
     ]
    },
    {
     "data": {
      "text/plain": [
       "RandomForestClassifier(n_estimators=150)"
      ]
     },
     "execution_count": 19,
     "metadata": {},
     "output_type": "execute_result"
    }
   ],
   "source": [
    "# Choose the number of estimators with the best accuracy\n",
    "best_estimators = max(rf_accuracy_dict, key=rf_accuracy_dict.get)  # Choose the one with the highest accuracy\n",
    "print(f\"Best number of estimators: {best_estimators}\")\n",
    "best_accuracy = rf_accuracy_dict[best_estimators]\n",
    "print(f\"Accuracy with {best_estimators} estimators: {best_accuracy}\")\n",
    "\n",
    "# Fix the number of estimators with the best accuracy in the model for future use\n",
    "rf_model = RandomForestClassifier(n_estimators=best_estimators)\n",
    "rf_model.fit(X_train_scaled, y_train)"
   ]
  },
  {
   "cell_type": "code",
   "execution_count": 20,
   "id": "8d3f7b62",
   "metadata": {},
   "outputs": [],
   "source": [
    "rf_predictions = rf_model.predict(X_test_scaled)"
   ]
  },
  {
   "cell_type": "code",
   "execution_count": 21,
   "id": "6fcdb4c6",
   "metadata": {},
   "outputs": [
    {
     "name": "stdout",
     "output_type": "stream",
     "text": [
      "              Actual         Predicted\n",
      "0        crying_baby       crying_baby\n",
      "1            snoring           snoring\n",
      "2           laughing          laughing\n",
      "3        crying_baby    brushing_teeth\n",
      "4           sneezing          sneezing\n",
      "5           coughing         footsteps\n",
      "6        crying_baby       crying_baby\n",
      "7           sneezing          sneezing\n",
      "8           coughing          coughing\n",
      "9           laughing          laughing\n",
      "10         footsteps         footsteps\n",
      "11          sneezing          sneezing\n",
      "12          coughing         footsteps\n",
      "13    brushing_teeth          sneezing\n",
      "14          clapping          clapping\n",
      "15          laughing          laughing\n",
      "16           snoring           snoring\n",
      "17          laughing          laughing\n",
      "18          clapping          clapping\n",
      "19          clapping          clapping\n",
      "20  drinking_sipping           snoring\n",
      "21  drinking_sipping         footsteps\n",
      "22         breathing           snoring\n",
      "23    brushing_teeth    brushing_teeth\n",
      "24          clapping          clapping\n",
      "25         footsteps         breathing\n",
      "26       crying_baby          laughing\n",
      "27          sneezing          sneezing\n",
      "28       crying_baby          clapping\n",
      "29         footsteps         footsteps\n",
      "30         footsteps         footsteps\n",
      "31          sneezing          sneezing\n",
      "32       crying_baby    brushing_teeth\n",
      "33          coughing  drinking_sipping\n",
      "34          clapping          clapping\n",
      "35         breathing  drinking_sipping\n",
      "36          clapping          clapping\n",
      "37  drinking_sipping         footsteps\n",
      "38         breathing          laughing\n",
      "39          sneezing          sneezing\n"
     ]
    }
   ],
   "source": [
    "# Create a DataFrame to compare actual and predicted classes\n",
    "comparison_df = pd.DataFrame({'Actual': y_test, 'Predicted': rf_predictions})\n",
    "\n",
    "print(comparison_df)"
   ]
  },
  {
   "cell_type": "code",
   "execution_count": 13,
   "id": "51f581bb",
   "metadata": {},
   "outputs": [],
   "source": [
    "# Function to extract features from recorded audio\n",
    "def extract_features(audio_data, sr):\n",
    "    # Extract MFCCs for recorded audio\n",
    "    mfccs = librosa.feature.mfcc(y=audio_data, sr=sr, n_mfcc=20)\n",
    "    mfccs_flattened = mfccs.flatten()\n",
    "    \n",
    "    # Extract Spectral Centroid for recorded audio\n",
    "    centroid = librosa.feature.spectral_centroid(y=audio_data, sr=sr)\n",
    "    \n",
    "    # Extract Spectral Bandwidth for recorded audio\n",
    "    bandwidth = librosa.feature.spectral_bandwidth(y=audio_data, sr=sr)\n",
    "    \n",
    "    # Extract Zero-Crossing Rate for recorded audio\n",
    "    zcr = librosa.feature.zero_crossing_rate(audio_data)\n",
    "    \n",
    "    # Combine features for recorded audio\n",
    "    combined_features = np.concatenate((mfccs_flattened, centroid.flatten(), \n",
    "                                        bandwidth.flatten(), zcr.flatten()))\n",
    "    \n",
    "    return combined_features"
   ]
  },
  {
   "cell_type": "code",
   "execution_count": 14,
   "id": "3cdd6dca",
   "metadata": {},
   "outputs": [],
   "source": [
    "# Function to manually record audio\n",
    "def manual_record(seconds=5, samplerate=44100):\n",
    "    print(f\"Recording for {seconds} seconds. Press Enter to start recording...\")\n",
    "    input(\"Press Enter to start recording...\")\n",
    "    \n",
    "    audio_data = sd.rec(int(seconds * samplerate), samplerate=samplerate, channels=1, dtype='float32')\n",
    "    sd.wait()\n",
    "    \n",
    "    print(\"Recording completed.\")\n",
    "    return audio_data, samplerate"
   ]
  },
  {
   "cell_type": "code",
   "execution_count": 15,
   "id": "c6a5b571",
   "metadata": {},
   "outputs": [
    {
     "name": "stdout",
     "output_type": "stream",
     "text": [
      "Recording for 5 seconds. Press Enter to start recording...\n",
      "Press Enter to start recording...\n",
      "Recording completed.\n"
     ]
    }
   ],
   "source": [
    "# Manual recording audio\n",
    "recorded_audio, sr = manual_record()"
   ]
  },
  {
   "cell_type": "code",
   "execution_count": 23,
   "id": "d35b1bde",
   "metadata": {},
   "outputs": [],
   "source": [
    "# Extract features from recorded audio\n",
    "extracted_features = extract_features(np.squeeze(recorded_audio), sr)"
   ]
  },
  {
   "cell_type": "code",
   "execution_count": 24,
   "id": "c7950a60",
   "metadata": {},
   "outputs": [
    {
     "name": "stdout",
     "output_type": "stream",
     "text": [
      "Predicted class with Random Forest: ['drinking_sipping']\n"
     ]
    }
   ],
   "source": [
    "# Ensure the number of extracted features matches the expected number for scaling\n",
    "if len(extracted_features) != len(scaler.data_max_):\n",
    "    print(\"Number of features extracted doesn't match the expected number.\")\n",
    "else:\n",
    "    # Scaling extracted features\n",
    "    scaled_features = scaler.transform(extracted_features.reshape(1, -1))\n",
    "\n",
    "    # Perform classification using the scaled features and the trained Random Forest model\n",
    "    rf_prediction = rf_model.predict(scaled_features)\n",
    "    print(f\"Predicted class with Random Forest: {rf_prediction}\")"
   ]
  }
 ],
 "metadata": {
  "kernelspec": {
   "display_name": "Python 3 (ipykernel)",
   "language": "python",
   "name": "python3"
  },
  "language_info": {
   "codemirror_mode": {
    "name": "ipython",
    "version": 3
   },
   "file_extension": ".py",
   "mimetype": "text/x-python",
   "name": "python",
   "nbconvert_exporter": "python",
   "pygments_lexer": "ipython3",
   "version": "3.9.13"
  }
 },
 "nbformat": 4,
 "nbformat_minor": 5
}

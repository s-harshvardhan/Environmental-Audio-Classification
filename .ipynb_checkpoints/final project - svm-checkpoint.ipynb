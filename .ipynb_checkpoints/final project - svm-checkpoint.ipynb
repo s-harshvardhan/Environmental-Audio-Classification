{
 "cells": [
  {
   "cell_type": "code",
   "execution_count": 1,
   "id": "2be7c008",
   "metadata": {},
   "outputs": [],
   "source": [
    "import pandas as pd\n",
    "import numpy as np\n",
    "import os\n",
    "import librosa\n",
    "from sklearn.model_selection import train_test_split\n",
    "from sklearn.metrics import accuracy_score\n",
    "from sklearn.preprocessing import MinMaxScaler\n",
    "import sounddevice as sd\n",
    "\n",
    "# Step 1: Data Collection and Loading\n",
    "file_path_csv = 'ESC-50-master/ESC-50-master/meta/esc50.csv'\n",
    "data = pd.read_csv(file_path_csv)\n",
    "\n",
    "# Filter audio files based on specific categories (only non-speech human sounds)\n",
    "selected_categories = ['breathing', 'brushing_teeth', 'clapping', 'coughing', 'crying_baby', \n",
    "                       'drinking_sipping', 'footsteps', \n",
    "                       'laughing', 'sneezing', 'snoring']\n",
    "filtered_data = data[data['category'].isin(selected_categories)]\n",
    "\n",
    "# Directory containing audio files\n",
    "folder_path = 'ESC-50-master/ESC-50-master/audio' \n",
    "\n",
    "features = []\n",
    "labels = []\n",
    "\n",
    "for index, row in filtered_data.iterrows():\n",
    "    file_name = row['filename']\n",
    "    file_path = os.path.join(folder_path, file_name)\n",
    "    \n",
    "    if os.path.isfile(file_path):  # Check if file exists\n",
    "        try:\n",
    "            audio_data, sr = librosa.load(file_path, sr=None)\n",
    "            \n",
    "            # Extracting MFCCs (feature 1)\n",
    "            mfccs = librosa.feature.mfcc(y=audio_data, sr=sr, n_mfcc=20)\n",
    "            mfccs_flattened = mfccs.flatten()\n",
    "            \n",
    "            # Extracting Spectral Centroid (feature 2)\n",
    "            centroid = librosa.feature.spectral_centroid(y=audio_data, sr=sr)\n",
    "            \n",
    "            # Extracting Spectral Bandwidth (feature 3)\n",
    "            bandwidth = librosa.feature.spectral_bandwidth(y=audio_data, sr=sr)\n",
    "            \n",
    "            # Extracting Zero-Crossing Rate (feature 4)\n",
    "            zcr = librosa.feature.zero_crossing_rate(audio_data)\n",
    "            \n",
    "            # Combining features\n",
    "            combined_features = np.concatenate((mfccs_flattened, centroid.flatten(), \n",
    "                                                bandwidth.flatten(), zcr.flatten()))\n",
    "            \n",
    "            # Append features and label to the lists\n",
    "            features.append(combined_features)\n",
    "            labels.append(row['category'])\n",
    "            \n",
    "        except Exception as e:\n",
    "            print(f\"Error processing {file_name}: {e}\")\n",
    "    else:\n",
    "        print(f\"File not found: {file_name}\")\n",
    "\n",
    "# Convert features and labels to NumPy arrays\n",
    "X = np.array(features)\n",
    "y = np.array(labels)\n",
    "\n",
    "# Min-Max scaling on extracted features\n",
    "scaler = MinMaxScaler()\n",
    "X_scaled = scaler.fit_transform(X)\n",
    "\n",
    "# Split scaled data into train and test sets\n",
    "X_train_scaled, X_test_scaled, y_train, y_test = train_test_split(X_scaled, y, test_size=0.1, random_state=42)"
   ]
  },
  {
   "cell_type": "code",
   "execution_count": 2,
   "id": "1326a3ee",
   "metadata": {},
   "outputs": [],
   "source": [
    "from sklearn.svm import SVC\n",
    "from sklearn.model_selection import GridSearchCV"
   ]
  },
  {
   "cell_type": "code",
   "execution_count": 3,
   "id": "ab201772",
   "metadata": {},
   "outputs": [
    {
     "name": "stdout",
     "output_type": "stream",
     "text": [
      "Best hyperparameters: {'C': 10, 'gamma': 'scale', 'kernel': 'rbf'}\n"
     ]
    },
    {
     "data": {
      "text/plain": [
       "SVC(C=10, random_state=42)"
      ]
     },
     "execution_count": 3,
     "metadata": {},
     "output_type": "execute_result"
    }
   ],
   "source": [
    "from sklearn.metrics import accuracy_score\n",
    "\n",
    "# Define the range of hyperparameters to search\n",
    "param_grid = {\n",
    "    'C': [0.1, 1, 10, 100],\n",
    "    'kernel': ['linear', 'rbf', 'poly', 'sigmoid'],\n",
    "    'gamma': ['scale', 'auto']  \n",
    "}\n",
    "\n",
    "# Initialize the SVM classifier\n",
    "svm_model = SVC(random_state=42)\n",
    "\n",
    "# Use GridSearchCV to find the best hyperparameters\n",
    "grid_search = GridSearchCV(estimator=svm_model, param_grid=param_grid, cv=5, scoring='accuracy')\n",
    "grid_search.fit(X_train_scaled, y_train)\n",
    "\n",
    "# Get the best hyperparameters found by GridSearchCV\n",
    "best_hyperparameters = grid_search.best_params_\n",
    "print(f\"Best hyperparameters: {best_hyperparameters}\")\n",
    "\n",
    "# Use the best hyperparameters to build the model\n",
    "best_svm_model = SVC(**best_hyperparameters, random_state=42)\n",
    "best_svm_model.fit(X_train_scaled, y_train)\n"
   ]
  },
  {
   "cell_type": "code",
   "execution_count": 4,
   "id": "1bc1d6d8",
   "metadata": {},
   "outputs": [
    {
     "name": "stdout",
     "output_type": "stream",
     "text": [
      "Accuracy with best hyperparameters: 0.725\n"
     ]
    }
   ],
   "source": [
    "# Assuming X_test_scaled and y_test are defined similarly\n",
    "# X_test_scaled = scaler.transform(X_test)\n",
    "predictions = best_svm_model.predict(X_test_scaled)\n",
    "\n",
    "# Calculate accuracy using the test set\n",
    "accuracy = accuracy_score(y_test, predictions)\n",
    "print(f\"Accuracy with best hyperparameters: {accuracy}\")"
   ]
  },
  {
   "cell_type": "code",
   "execution_count": 5,
   "id": "0be2c363",
   "metadata": {},
   "outputs": [
    {
     "name": "stdout",
     "output_type": "stream",
     "text": [
      "              Actual         Predicted\n",
      "0        crying_baby       crying_baby\n",
      "1            snoring           snoring\n",
      "2           laughing          laughing\n",
      "3        crying_baby    brushing_teeth\n",
      "4           sneezing          sneezing\n",
      "5           coughing         footsteps\n",
      "6        crying_baby       crying_baby\n",
      "7           sneezing          sneezing\n",
      "8           coughing          coughing\n",
      "9           laughing          laughing\n",
      "10         footsteps         footsteps\n",
      "11          sneezing          sneezing\n",
      "12          coughing  drinking_sipping\n",
      "13    brushing_teeth         breathing\n",
      "14          clapping          clapping\n",
      "15          laughing          laughing\n",
      "16           snoring           snoring\n",
      "17          laughing       crying_baby\n",
      "18          clapping          clapping\n",
      "19          clapping          clapping\n",
      "20  drinking_sipping           snoring\n",
      "21  drinking_sipping  drinking_sipping\n",
      "22         breathing  drinking_sipping\n",
      "23    brushing_teeth    brushing_teeth\n",
      "24          clapping          clapping\n",
      "25         footsteps         footsteps\n",
      "26       crying_baby          laughing\n",
      "27          sneezing          sneezing\n",
      "28       crying_baby       crying_baby\n",
      "29         footsteps         footsteps\n",
      "30         footsteps         footsteps\n",
      "31          sneezing  drinking_sipping\n",
      "32       crying_baby       crying_baby\n",
      "33          coughing          coughing\n",
      "34          clapping          clapping\n",
      "35         breathing          coughing\n",
      "36          clapping          clapping\n",
      "37  drinking_sipping  drinking_sipping\n",
      "38         breathing          laughing\n",
      "39          sneezing          sneezing\n"
     ]
    }
   ],
   "source": [
    "# Create a DataFrame to compare actual and predicted classes\n",
    "comparison_df = pd.DataFrame({'Actual': y_test, 'Predicted': predictions})\n",
    "\n",
    "# Display the comparison\n",
    "print(comparison_df)"
   ]
  },
  {
   "cell_type": "code",
   "execution_count": 6,
   "id": "6ff775eb",
   "metadata": {},
   "outputs": [],
   "source": [
    "# Function to extract features from recorded audio\n",
    "def extract_features(audio_data, sr):\n",
    "    # Extract MFCCs for recorded audio\n",
    "    mfccs = librosa.feature.mfcc(y=audio_data, sr=sr, n_mfcc=20)\n",
    "    mfccs_flattened = mfccs.flatten()\n",
    "    \n",
    "    # Extract Spectral Centroid for recorded audio\n",
    "    centroid = librosa.feature.spectral_centroid(y=audio_data, sr=sr)\n",
    "    \n",
    "    # Extract Spectral Bandwidth for recorded audio\n",
    "    bandwidth = librosa.feature.spectral_bandwidth(y=audio_data, sr=sr)\n",
    "    \n",
    "    # Extract Zero-Crossing Rate for recorded audio\n",
    "    zcr = librosa.feature.zero_crossing_rate(audio_data)\n",
    "    \n",
    "    # Combine features for recorded audio\n",
    "    combined_features = np.concatenate((mfccs_flattened, centroid.flatten(), \n",
    "                                        bandwidth.flatten(), zcr.flatten()))\n",
    "    \n",
    "    return combined_features"
   ]
  },
  {
   "cell_type": "code",
   "execution_count": 7,
   "id": "73a84776",
   "metadata": {},
   "outputs": [],
   "source": [
    "# Function to manually record audio\n",
    "def manual_record(seconds=5, samplerate=44100):\n",
    "    print(f\"Recording for {seconds} seconds. Press Enter to start recording...\")\n",
    "    input(\"Press Enter to start recording...\")\n",
    "    \n",
    "    audio_data = sd.rec(int(seconds * samplerate), samplerate=samplerate, channels=1, dtype='float32')\n",
    "    sd.wait()\n",
    "    \n",
    "    print(\"Recording completed.\")\n",
    "    return audio_data, samplerate"
   ]
  },
  {
   "cell_type": "code",
   "execution_count": 8,
   "id": "8cd39dc3",
   "metadata": {},
   "outputs": [
    {
     "name": "stdout",
     "output_type": "stream",
     "text": [
      "Recording for 5 seconds. Press Enter to start recording...\n",
      "Press Enter to start recording...\n",
      "Recording completed.\n"
     ]
    }
   ],
   "source": [
    "# Manual recording audio\n",
    "recorded_audio, sr = manual_record()"
   ]
  },
  {
   "cell_type": "code",
   "execution_count": 9,
   "id": "aa57c705",
   "metadata": {},
   "outputs": [],
   "source": [
    "# Extract features from recorded audio\n",
    "extracted_features = extract_features(np.squeeze(recorded_audio), sr)"
   ]
  },
  {
   "cell_type": "code",
   "execution_count": 10,
   "id": "2043d9f8",
   "metadata": {},
   "outputs": [
    {
     "name": "stdout",
     "output_type": "stream",
     "text": [
      "Predicted class with SVM: ['crying_baby']\n"
     ]
    }
   ],
   "source": [
    "# Ensure the number of extracted features matches the expected number for scaling\n",
    "if len(extracted_features) != len(scaler.data_max_):\n",
    "    print(\"Number of features extracted doesn't match the expected number.\")\n",
    "else:\n",
    "    # Scaling extracted features\n",
    "    scaled_features = scaler.transform(extracted_features.reshape(1, -1))\n",
    "\n",
    "    # Perform classification using the scaled features and the trained SVM model\n",
    "    prediction = best_svm_model.predict(scaled_features)\n",
    "    print(f\"Predicted class with SVM: {prediction}\")"
   ]
  }
 ],
 "metadata": {
  "kernelspec": {
   "display_name": "Python 3 (ipykernel)",
   "language": "python",
   "name": "python3"
  },
  "language_info": {
   "codemirror_mode": {
    "name": "ipython",
    "version": 3
   },
   "file_extension": ".py",
   "mimetype": "text/x-python",
   "name": "python",
   "nbconvert_exporter": "python",
   "pygments_lexer": "ipython3",
   "version": "3.9.13"
  }
 },
 "nbformat": 4,
 "nbformat_minor": 5
}

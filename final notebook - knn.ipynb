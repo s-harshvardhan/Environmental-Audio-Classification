{
 "cells": [
  {
   "cell_type": "code",
   "execution_count": 1,
   "id": "70d166bb",
   "metadata": {},
   "outputs": [],
   "source": [
    "import pandas as pd\n",
    "import numpy as np\n",
    "import os\n",
    "import librosa\n",
    "from sklearn.model_selection import train_test_split\n",
    "from sklearn.neighbors import KNeighborsClassifier\n",
    "from sklearn.metrics import accuracy_score\n",
    "from sklearn.preprocessing import MinMaxScaler"
   ]
  },
  {
   "cell_type": "code",
   "execution_count": 2,
   "id": "2b4bf7f0",
   "metadata": {},
   "outputs": [],
   "source": [
    "# Step 1: Data Collection and Loading\n",
    "file_path_csv = 'ESC-50-master/ESC-50-master/meta/esc50.csv'\n",
    "data = pd.read_csv(file_path_csv)"
   ]
  },
  {
   "cell_type": "code",
   "execution_count": 3,
   "id": "2bcac44b",
   "metadata": {},
   "outputs": [],
   "source": [
    "# Filter audio files based on specific categories (only non-speech human sounds)\n",
    "selected_categories = ['breathing', 'brushing_teeth', 'clapping', 'coughing', 'crying_baby', \n",
    "                       'drinking_sipping', 'footsteps', \n",
    "                       'laughing', 'sneezing', 'snoring']\n",
    "filtered_data = data[data['category'].isin(selected_categories)]"
   ]
  },
  {
   "cell_type": "code",
   "execution_count": 4,
   "id": "fabe4d3e",
   "metadata": {},
   "outputs": [],
   "source": [
    "# Directory containing audio files\n",
    "folder_path = 'ESC-50-master/ESC-50-master/audio'"
   ]
  },
  {
   "cell_type": "code",
   "execution_count": 5,
   "id": "a407eb29",
   "metadata": {},
   "outputs": [],
   "source": [
    "features = []\n",
    "labels = []"
   ]
  },
  {
   "cell_type": "code",
   "execution_count": 6,
   "id": "b2727d53",
   "metadata": {},
   "outputs": [],
   "source": [
    "for index, row in filtered_data.iterrows():\n",
    "    file_name = row['filename']\n",
    "    file_path = os.path.join(folder_path, file_name)\n",
    "    \n",
    "    if os.path.isfile(file_path):  # Check if file exists\n",
    "        try:\n",
    "            audio_data, sr = librosa.load(file_path, sr=None)\n",
    "            \n",
    "            # Extracting MFCCs (feature 1)\n",
    "            mfccs = librosa.feature.mfcc(y=audio_data, sr=sr, n_mfcc=20)\n",
    "            mfccs_flattened = mfccs.flatten()\n",
    "            \n",
    "            # Extracting Spectral Centroid (feature 2)\n",
    "            centroid = librosa.feature.spectral_centroid(y=audio_data, sr=sr)\n",
    "            \n",
    "            # Extracting Spectral Bandwidth (feature 3)\n",
    "            bandwidth = librosa.feature.spectral_bandwidth(y=audio_data, sr=sr)\n",
    "            \n",
    "            # Extracting Zero-Crossing Rate (feature 4)\n",
    "            zcr = librosa.feature.zero_crossing_rate(audio_data)\n",
    "            \n",
    "            # Combining features\n",
    "            combined_features = np.concatenate((mfccs_flattened, centroid.flatten(), \n",
    "                                                bandwidth.flatten(), zcr.flatten()))\n",
    "            \n",
    "            # Append features and label to the lists\n",
    "            features.append(combined_features)\n",
    "            labels.append(row['category'])\n",
    "            \n",
    "        except Exception as e:\n",
    "            print(f\"Error processing {file_name}: {e}\")\n",
    "    else:\n",
    "        print(f\"File not found: {file_name}\")"
   ]
  },
  {
   "cell_type": "code",
   "execution_count": 7,
   "id": "89697d93",
   "metadata": {},
   "outputs": [],
   "source": [
    "# Convert features and labels to NumPy arrays\n",
    "X = np.array(features)\n",
    "y = np.array(labels)"
   ]
  },
  {
   "cell_type": "code",
   "execution_count": 8,
   "id": "90d03964",
   "metadata": {},
   "outputs": [],
   "source": [
    "# Min-Max scaling on extracted features\n",
    "scaler = MinMaxScaler()\n",
    "X_scaled = scaler.fit_transform(X)"
   ]
  },
  {
   "cell_type": "code",
   "execution_count": 9,
   "id": "7289b1b0",
   "metadata": {},
   "outputs": [],
   "source": [
    "# Split scaled data into train and test sets\n",
    "X_train_scaled, X_test_scaled, y_train, y_test = train_test_split(X_scaled, y, test_size=0.25, random_state=42)"
   ]
  },
  {
   "cell_type": "code",
   "execution_count": 10,
   "id": "90c55d20",
   "metadata": {},
   "outputs": [],
   "source": [
    "# List of possible values for n_neighbors\n",
    "possible_neighbors = [1, 3, 5, 7, 9]"
   ]
  },
  {
   "cell_type": "code",
   "execution_count": 11,
   "id": "60c8c44d",
   "metadata": {},
   "outputs": [],
   "source": [
    "# Dictionary to store accuracy for each n_neighbors (used  to determine the best number of neighbors (k))\n",
    "accuracy_dict = {}"
   ]
  },
  {
   "cell_type": "code",
   "execution_count": 12,
   "id": "f6f5d23a",
   "metadata": {},
   "outputs": [
    {
     "name": "stdout",
     "output_type": "stream",
     "text": [
      "Accuracy with 1 neighbors: 0.51\n",
      "Accuracy with 3 neighbors: 0.52\n",
      "Accuracy with 5 neighbors: 0.46\n",
      "Accuracy with 7 neighbors: 0.47\n",
      "Accuracy with 9 neighbors: 0.45\n"
     ]
    }
   ],
   "source": [
    "for neighbors in possible_neighbors:\n",
    "    # Initialize and train the KNN model with a specific number of neighbors\n",
    "    knn_model = KNeighborsClassifier(n_neighbors=neighbors)\n",
    "    knn_model.fit(X_train_scaled, y_train)\n",
    "\n",
    "    # Predict using the trained model\n",
    "    predictions = knn_model.predict(X_test_scaled)\n",
    "\n",
    "    # Evaluate model performance\n",
    "    accuracy = accuracy_score(y_test, predictions)\n",
    "    accuracy_dict[neighbors] = accuracy\n",
    "    print(f\"Accuracy with {neighbors} neighbors: {accuracy}\")"
   ]
  },
  {
   "cell_type": "code",
   "execution_count": 23,
   "id": "faa45987",
   "metadata": {},
   "outputs": [
    {
     "name": "stdout",
     "output_type": "stream",
     "text": [
      "Best number of neighbors: 3\n",
      "Accuracy with 3 neighbors: 0.52\n"
     ]
    },
    {
     "data": {
      "text/plain": [
       "KNeighborsClassifier(n_neighbors=3)"
      ]
     },
     "execution_count": 23,
     "metadata": {},
     "output_type": "execute_result"
    }
   ],
   "source": [
    "# Choose the number of neighbors with the best accuracy\n",
    "best_neighbors = max(accuracy_dict, key=accuracy_dict.get)\n",
    "print(f\"Best number of neighbors: {best_neighbors}\")\n",
    "best_accuracy = accuracy_dict[best_neighbors]\n",
    "print(f\"Accuracy with {best_neighbors} neighbors: {best_accuracy}\")\n",
    "\n",
    "# Fix the number of neighbors with the best accuracy in the model for future use\n",
    "knn_model = KNeighborsClassifier(n_neighbors=best_neighbors)\n",
    "knn_model.fit(X_train_scaled, y_train)"
   ]
  },
  {
   "cell_type": "code",
   "execution_count": 21,
   "id": "c088a0fe",
   "metadata": {},
   "outputs": [
    {
     "name": "stdout",
     "output_type": "stream",
     "text": [
      "              Actual         Predicted\n",
      "0        crying_baby          clapping\n",
      "1            snoring           snoring\n",
      "2           laughing          coughing\n",
      "3        crying_baby         footsteps\n",
      "4           sneezing          sneezing\n",
      "..               ...               ...\n",
      "95  drinking_sipping         footsteps\n",
      "96           snoring           snoring\n",
      "97  drinking_sipping          sneezing\n",
      "98         footsteps         footsteps\n",
      "99  drinking_sipping  drinking_sipping\n",
      "\n",
      "[100 rows x 2 columns]\n"
     ]
    }
   ],
   "source": [
    "predictions = knn_model.predict(X_test_scaled)\n",
    "\n",
    "# Create a DataFrame to compare actual and predicted classes\n",
    "comparison_df = pd.DataFrame({'Actual': y_test, 'Predicted': predictions})\n",
    "\n",
    "print(comparison_df)"
   ]
  },
  {
   "cell_type": "code",
   "execution_count": 14,
   "id": "1ad74b34",
   "metadata": {},
   "outputs": [],
   "source": [
    "import sounddevice as sd"
   ]
  },
  {
   "cell_type": "code",
   "execution_count": 15,
   "id": "45519f03",
   "metadata": {},
   "outputs": [],
   "source": [
    "# Function to extract features from recorded audio\n",
    "def extract_features(audio_data, sr):\n",
    "    # Extract MFCCs for recorded audio\n",
    "    mfccs = librosa.feature.mfcc(y=audio_data, sr=sr, n_mfcc=20)\n",
    "    mfccs_flattened = mfccs.flatten()\n",
    "    \n",
    "    # Extract Spectral Centroid for recorded audio\n",
    "    centroid = librosa.feature.spectral_centroid(y=audio_data, sr=sr)\n",
    "    \n",
    "    # Extract Spectral Bandwidth for recorded audio\n",
    "    bandwidth = librosa.feature.spectral_bandwidth(y=audio_data, sr=sr)\n",
    "    \n",
    "    # Extract Zero-Crossing Rate for recorded audio\n",
    "    zcr = librosa.feature.zero_crossing_rate(audio_data)\n",
    "    \n",
    "    # Combine features for recorded audio\n",
    "    combined_features = np.concatenate((mfccs_flattened, centroid.flatten(), \n",
    "                                        bandwidth.flatten(), zcr.flatten()))\n",
    "    \n",
    "    return combined_features"
   ]
  },
  {
   "cell_type": "code",
   "execution_count": 16,
   "id": "2b34b9f2",
   "metadata": {},
   "outputs": [],
   "source": [
    "# Function to manually record audio\n",
    "def manual_record(seconds=5, samplerate=44100):\n",
    "    print(f\"Recording for {seconds} seconds. Press Enter to start recording...\")\n",
    "    input(\"Press Enter to start recording...\")\n",
    "    \n",
    "    audio_data = sd.rec(int(seconds * samplerate), samplerate=samplerate, channels=1, dtype='float32')\n",
    "    sd.wait()\n",
    "    \n",
    "    print(\"Recording completed.\")\n",
    "    return audio_data, samplerate"
   ]
  },
  {
   "cell_type": "code",
   "execution_count": 18,
   "id": "6c3fe637",
   "metadata": {
    "scrolled": false
   },
   "outputs": [
    {
     "name": "stdout",
     "output_type": "stream",
     "text": [
      "Recording for 5 seconds. Press Enter to start recording...\n",
      "Press Enter to start recording...\n",
      "Recording completed.\n"
     ]
    }
   ],
   "source": [
    "# Manual recording audio\n",
    "recorded_audio, sr = manual_record()"
   ]
  },
  {
   "cell_type": "code",
   "execution_count": 19,
   "id": "dd047426",
   "metadata": {},
   "outputs": [],
   "source": [
    "# Extract features from recorded audio\n",
    "extracted_features = extract_features(np.squeeze(recorded_audio), sr)"
   ]
  },
  {
   "cell_type": "code",
   "execution_count": 20,
   "id": "13fab402",
   "metadata": {},
   "outputs": [
    {
     "name": "stdout",
     "output_type": "stream",
     "text": [
      "Predicted class: ['clapping']\n"
     ]
    }
   ],
   "source": [
    "# Ensure the number of extracted features matches the expected number for scaling\n",
    "if len(extracted_features) != len(scaler.data_max_):\n",
    "    print(\"Number of features extracted doesn't match the expected number.\")\n",
    "else:\n",
    "    # Scaling extracted features\n",
    "    scaled_features = scaler.transform(extracted_features.reshape(1, -1))\n",
    "\n",
    "    # Perform classification using the scaled features and the trained model\n",
    "    prediction = knn_model.predict(scaled_features)\n",
    "    print(f\"Predicted class: {prediction}\")"
   ]
  }
 ],
 "metadata": {
  "kernelspec": {
   "display_name": "Python 3 (ipykernel)",
   "language": "python",
   "name": "python3"
  },
  "language_info": {
   "codemirror_mode": {
    "name": "ipython",
    "version": 3
   },
   "file_extension": ".py",
   "mimetype": "text/x-python",
   "name": "python",
   "nbconvert_exporter": "python",
   "pygments_lexer": "ipython3",
   "version": "3.9.13"
  }
 },
 "nbformat": 4,
 "nbformat_minor": 5
}
